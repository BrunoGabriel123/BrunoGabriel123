{
  "nbformat": 4,
  "nbformat_minor": 0,
  "metadata": {
    "colab": {
      "provenance": [],
      "include_colab_link": true
    },
    "kernelspec": {
      "name": "python3",
      "display_name": "Python 3"
    },
    "language_info": {
      "name": "python"
    }
  },
  "cells": [
    {
      "cell_type": "markdown",
      "metadata": {
        "id": "view-in-github",
        "colab_type": "text"
      },
      "source": [
        "<a href=\"https://colab.research.google.com/github/BrunoGabriel123/BrunoGabriel123/blob/main/Aula_2.ipynb\" target=\"_parent\"><img src=\"https://colab.research.google.com/assets/colab-badge.svg\" alt=\"Open In Colab\"/></a>"
      ]
    },
    {
      "cell_type": "markdown",
      "source": [
        "##Tipos de variáveis"
      ],
      "metadata": {
        "id": "3CSeEItFu3G7"
      }
    },
    {
      "cell_type": "code",
      "execution_count": null,
      "metadata": {
        "colab": {
          "base_uri": "https://localhost:8080/"
        },
        "id": "4mYF8KsYqdgc",
        "outputId": "7180a399-f8c7-4916-ef6b-b2a20bde850e"
      },
      "outputs": [
        {
          "output_type": "stream",
          "name": "stdout",
          "text": [
            "10\n",
            "<class 'int'>\n",
            "<class 'str'>\n",
            "<class 'float'>\n",
            "0.30000000000000004\n",
            "True\n",
            "True\n"
          ]
        }
      ],
      "source": [
        "   x = 10  # inteiro\n",
        "   print(x)\n",
        "   print(type(x))\n",
        "\n",
        "   y = \"meu nome\" # string\n",
        "   print(type(y))\n",
        "\n",
        "   k = 1.8 - 1.5 # float\n",
        "   print(type(k))\n",
        "   print(k)\n",
        "\n",
        "   print(x > 6)\n",
        "   print(x < 15)"
      ]
    },
    {
      "cell_type": "code",
      "source": [
        "# aqui vamos imprimir o valor da variavel y \n",
        "\n",
        "y = \"meu nome\"\n",
        "print(\"valor da variavel y é \", y, \"depois da variavel\")\n",
        "y = 10\n",
        "print(y)"
      ],
      "metadata": {
        "colab": {
          "base_uri": "https://localhost:8080/"
        },
        "id": "LycjkW6ttyf0",
        "outputId": "9b3328b8-742b-4ebd-ac47-3c538091c5a3"
      },
      "execution_count": null,
      "outputs": [
        {
          "output_type": "stream",
          "name": "stdout",
          "text": [
            "valor da variavel y é  meu nome depois da variavel\n",
            "10\n"
          ]
        }
      ]
    },
    {
      "cell_type": "code",
      "source": [
        "texto = 'aspas simpels'\n",
        "print(type(texto)\n",
        "      \n",
        "texto2 = \"aspas duplas\"\n",
        "print(type(texto2))\n",
        "\n",
        "#forçar erro, falta de () e virgula\n"
      ],
      "metadata": {
        "colab": {
          "base_uri": "https://localhost:8080/",
          "height": 130
        },
        "id": "ggWd7UYVv4Gp",
        "outputId": "8e8f31cf-2666-4b46-ce98-8f1817191844"
      },
      "execution_count": null,
      "outputs": [
        {
          "output_type": "error",
          "ename": "SyntaxError",
          "evalue": "ignored",
          "traceback": [
            "\u001b[0;36m  File \u001b[0;32m\"<ipython-input-11-cdbb54c71369>\"\u001b[0;36m, line \u001b[0;32m4\u001b[0m\n\u001b[0;31m    texto2 = \"aspas duplas\"\u001b[0m\n\u001b[0m    ^\u001b[0m\n\u001b[0;31mSyntaxError\u001b[0m\u001b[0;31m:\u001b[0m invalid syntax\n"
          ]
        }
      ]
    },
    {
      "cell_type": "code",
      "source": [
        "variavel = 1 + 1\n",
        "print(variavel)\n",
        "\n",
        "print(variavel + 3)"
      ],
      "metadata": {
        "colab": {
          "base_uri": "https://localhost:8080/"
        },
        "id": "oZlvJddTyDQj",
        "outputId": "43d7bcd4-6f98-49cc-9cda-649baf4fc34a"
      },
      "execution_count": null,
      "outputs": [
        {
          "output_type": "stream",
          "name": "stdout",
          "text": [
            "2\n",
            "5\n"
          ]
        }
      ]
    },
    {
      "cell_type": "code",
      "source": [
        "n = ' nome'\n",
        "s = ' sobrenome'\n",
        "\n",
        "n = n + ' sobrenome'\n",
        "\n",
        "print(n + s)"
      ],
      "metadata": {
        "colab": {
          "base_uri": "https://localhost:8080/"
        },
        "id": "zHzS6_1FynMS",
        "outputId": "1835fd53-ebcd-40ee-83e3-4fef67603a3b"
      },
      "execution_count": null,
      "outputs": [
        {
          "output_type": "stream",
          "name": "stdout",
          "text": [
            " nome sobrenome sobrenome\n"
          ]
        }
      ]
    },
    {
      "cell_type": "code",
      "source": [
        "pi = 3.14\n",
        "info = 'o valor de pi é = ' + str(pi)\n",
        "print(info)\n",
        "\n",
        "# numero se transforma em string, + em numero é soma e + em letra é concatenação"
      ],
      "metadata": {
        "colab": {
          "base_uri": "https://localhost:8080/"
        },
        "id": "usEwV41QziPc",
        "outputId": "d8ebb1ae-9a73-4bc0-d668-7c2c723d4896"
      },
      "execution_count": null,
      "outputs": [
        {
          "output_type": "stream",
          "name": "stdout",
          "text": [
            "o valor de pi é = 3.14\n"
          ]
        }
      ]
    },
    {
      "cell_type": "markdown",
      "source": [
        "##Manipulação de Strings (exemplos)"
      ],
      "metadata": {
        "id": "qs68IoWv1tC1"
      }
    },
    {
      "cell_type": "code",
      "source": [
        "texto_novo = \"RECUPERACAO DA INFORMACAO\""
      ],
      "metadata": {
        "id": "F5zQSpB02Qa2"
      },
      "execution_count": null,
      "outputs": []
    },
    {
      "cell_type": "code",
      "source": [
        "#texto_novo.lower() printa minusculo\n",
        "\n",
        "texto_lower = texto_novo.lower()\n",
        "texto_lower"
      ],
      "metadata": {
        "colab": {
          "base_uri": "https://localhost:8080/",
          "height": 35
        },
        "id": "AdiIrOWY2aZL",
        "outputId": "3511e306-adcf-4f92-cd85-0c8abee65b87"
      },
      "execution_count": null,
      "outputs": [
        {
          "output_type": "execute_result",
          "data": {
            "text/plain": [
              "'recuperacao da informacao'"
            ],
            "application/vnd.google.colaboratory.intrinsic+json": {
              "type": "string"
            }
          },
          "metadata": {},
          "execution_count": 20
        }
      ]
    },
    {
      "cell_type": "code",
      "source": [
        "# texto_novo.upper printa maisculo\n",
        "\n",
        "texto_upper = texto_novo.upper()\n",
        "texto_upper\n"
      ],
      "metadata": {
        "colab": {
          "base_uri": "https://localhost:8080/",
          "height": 35
        },
        "id": "z4sA5oVh3h8Z",
        "outputId": "537df53c-0cfd-4944-da65-62bf71e0f930"
      },
      "execution_count": null,
      "outputs": [
        {
          "output_type": "execute_result",
          "data": {
            "text/plain": [
              "'RECUPERACAO DA INFORMACAO'"
            ],
            "application/vnd.google.colaboratory.intrinsic+json": {
              "type": "string"
            }
          },
          "metadata": {},
          "execution_count": 21
        }
      ]
    },
    {
      "cell_type": "code",
      "source": [
        "#substituição\n",
        "\n",
        "print(texto_lower.replace('a', 'X') )\n",
        "\n",
        "print(texto_upper.replace('A', 'X'))"
      ],
      "metadata": {
        "colab": {
          "base_uri": "https://localhost:8080/"
        },
        "id": "cK1sOSYw4JbO",
        "outputId": "ad035038-dbd5-4276-9837-01899ceca7c4"
      },
      "execution_count": null,
      "outputs": [
        {
          "output_type": "stream",
          "name": "stdout",
          "text": [
            "recuperXcXo dX informXcXo\n",
            "RECUPERXCXO DX INFORMXCXO\n"
          ]
        }
      ]
    },
    {
      "cell_type": "code",
      "source": [
        "len(texto_lower)\n",
        "#tamanho da string considerando espaço,ponto,virgulas e cada posição(tamanho do texto) \n",
        "#resultado 25 : 25 caracteres\n",
        "\n"
      ],
      "metadata": {
        "id": "-1gu2d7R40Mk",
        "colab": {
          "base_uri": "https://localhost:8080/"
        },
        "outputId": "669979de-8630-49d4-de39-b7b5db33dc99"
      },
      "execution_count": null,
      "outputs": [
        {
          "output_type": "execute_result",
          "data": {
            "text/plain": [
              "25"
            ]
          },
          "metadata": {},
          "execution_count": 23
        }
      ]
    },
    {
      "cell_type": "code",
      "source": [
        "print(texto_lower)\n",
        "print(texto_lower[1:10]) # printar os caracteres entre 2 e 9 , vai retirar o R e o O da resposta\n"
      ],
      "metadata": {
        "colab": {
          "base_uri": "https://localhost:8080/"
        },
        "id": "VkZpCGtev7Fo",
        "outputId": "fd8777f9-ad31-4d60-e27d-69bd77353e89"
      },
      "execution_count": null,
      "outputs": [
        {
          "output_type": "stream",
          "name": "stdout",
          "text": [
            "recuperacao da informacao\n",
            "ecuperaca\n"
          ]
        }
      ]
    },
    {
      "cell_type": "code",
      "source": [
        "#split\n",
        "lista_split = texto_lower.split('a')\n",
        "print(lista_split) # cada vez que encontrar o A ele vai quebrar e caso não colocar a variavel 'a' , irá separar os espaços"
      ],
      "metadata": {
        "colab": {
          "base_uri": "https://localhost:8080/"
        },
        "id": "-lb2jkCxxKkN",
        "outputId": "4da5b720-375b-44b7-e01a-cc40deb438e2"
      },
      "execution_count": null,
      "outputs": [
        {
          "output_type": "stream",
          "name": "stdout",
          "text": [
            "['recuper', 'c', 'o d', ' inform', 'c', 'o']\n"
          ]
        }
      ]
    },
    {
      "cell_type": "code",
      "source": [
        "#append\n",
        "lista_split = texto_lower.split()\n",
        "lista_split.append(\"FUNDACAO\")\n",
        "print(lista_split)"
      ],
      "metadata": {
        "id": "rdeTom5Yx7HK",
        "colab": {
          "base_uri": "https://localhost:8080/"
        },
        "outputId": "12c70354-962a-427d-f7ed-4fa0f0193c22"
      },
      "execution_count": 8,
      "outputs": [
        {
          "output_type": "stream",
          "name": "stdout",
          "text": [
            "['recuperacao', 'da', 'informacao', 'FUNDACAO']\n"
          ]
        }
      ]
    },
    {
      "cell_type": "code",
      "source": [
        "#join\n",
        "\n",
        "juntar = \" \".join(lista_split)\n",
        "print(juntar)\n",
        "\n",
        "juntar = \"\".join(lista_split)\n",
        "print(juntar)"
      ],
      "metadata": {
        "colab": {
          "base_uri": "https://localhost:8080/"
        },
        "id": "zDMVahiG1Ya_",
        "outputId": "63bac33a-13c4-4e6e-f2d2-4aa4a3c4b6ad"
      },
      "execution_count": 9,
      "outputs": [
        {
          "output_type": "stream",
          "name": "stdout",
          "text": [
            "recuperacao da informacao FUNDACAO\n",
            "recuperacaodainformacaoFUNDACAO\n"
          ]
        }
      ]
    }
  ]
}